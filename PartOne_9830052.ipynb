{
 "cells": [
  {
   "cell_type": "markdown",
   "id": "0c1dfc60",
   "metadata": {},
   "source": [
    "#### Question No. 1 "
   ]
  },
  {
   "cell_type": "code",
   "execution_count": 4,
   "id": "10448b30",
   "metadata": {},
   "outputs": [
    {
     "name": "stdout",
     "output_type": "stream",
     "text": [
      "please enter a number: 2356532\n",
      "YES\n"
     ]
    }
   ],
   "source": [
    "\n",
    "    s=input(\"please enter a number: \") # initial string\n",
    "    stringlength=len(s) # calculate length of the list\n",
    "    reversed_int=int(s[stringlength::-1]) # slicing\n",
    "    if reversed_int == int(s):\n",
    "        print(\"YES\")  # print the reversed string\n",
    "    else  :\n",
    "        print(\"NO\")  # print the reversed string"
   ]
  },
  {
   "cell_type": "markdown",
   "id": "373c1a37",
   "metadata": {},
   "source": [
    "#### Question No.  2"
   ]
  },
  {
   "cell_type": "code",
   "execution_count": 7,
   "id": "f68a0947",
   "metadata": {},
   "outputs": [
    {
     "name": "stdout",
     "output_type": "stream",
     "text": [
      "please enter n: 4\n",
      "please enter n integer between 1 and 10: 1562\n",
      "6\n"
     ]
    }
   ],
   "source": [
    "n = int(input(\"please enter n: \"))\n",
    "counter = \"\"\n",
    "while counter != \"OK\":\n",
    "    n_list=input(\"please enter n integer between 1 and 10: \")\n",
    "    if len(n_list) != n:\n",
    "        print(\"please enter again\")\n",
    "    elif len(n_list) ==n:\n",
    "        counter = \"OK\"\n",
    "Max_number = n\n",
    "for counter in range(0,len(n_list)):\n",
    "    if int(n_list[counter])>Max_number:\n",
    "        Max_number = int(n_list[counter])\n",
    "print (str(Max_number))"
   ]
  },
  {
   "cell_type": "markdown",
   "id": "120bf446",
   "metadata": {},
   "source": [
    "#### Question No. 3"
   ]
  },
  {
   "cell_type": "code",
   "execution_count": 10,
   "id": "99e12ae6",
   "metadata": {},
   "outputs": [
    {
     "name": "stdout",
     "output_type": "stream",
     "text": [
      "Enter the numbers : 1,2,3,5,7,8,9,10\n",
      "Number of even numbers in the above array: 3\n",
      "Number of odd numbers in the above array: 5\n"
     ]
    }
   ],
   "source": [
    "# For list of integers\n",
    "lst1 = []\n",
    "\n",
    "even = 0\n",
    "odd = 0\n",
    "\n",
    "lst1 = [int(item) for item in input(\"Enter the numbers : \").split(\",\")]\n",
    "for counter in range(0,len(lst1)):\n",
    "    if lst1[counter]%2 == 0:\n",
    "        even =even +1\n",
    "    elif lst1[counter]%2 == 1:\n",
    "        odd = odd +1\n",
    "\n",
    "print(\"Number of even numbers in the above array: \" + str(even))\n",
    "print(\"Number of odd numbers in the above array: \" + str(odd))\n"
   ]
  },
  {
   "cell_type": "markdown",
   "id": "4e213f05",
   "metadata": {},
   "source": [
    "#### Question No. 4 "
   ]
  },
  {
   "cell_type": "code",
   "execution_count": 11,
   "id": "a0965ddd",
   "metadata": {},
   "outputs": [
    {
     "name": "stdout",
     "output_type": "stream",
     "text": [
      "please enter the date in yyy-mm-dd format: 2026-01-02\n",
      "02/01/2026\n"
     ]
    }
   ],
   "source": [
    "def date_format_modifier(initial_date_format):\n",
    "    year = initial_date_format[0:4]\n",
    "    month = initial_date_format[5:7]\n",
    "    day = initial_date_format[8:10]\n",
    "    final_string = day + \"/\" + month + \"/\" + year\n",
    "    return final_string\n",
    "\n",
    "print(date_format_modifier(input(\"please enter the date in yyy-mm-dd format: \")))"
   ]
  },
  {
   "cell_type": "markdown",
   "id": "482c7d7d",
   "metadata": {},
   "source": [
    "#### Question No. 5 "
   ]
  },
  {
   "cell_type": "code",
   "execution_count": 13,
   "id": "b35dc55f",
   "metadata": {},
   "outputs": [
    {
     "name": "stdout",
     "output_type": "stream",
     "text": [
      "Enter the list items : 1,2,3,5,7,8,9,10\n",
      "Enter the 2nd list items : 1,2,4,8,9\n",
      "[1, 2, 8, 9]\n"
     ]
    }
   ],
   "source": [
    "# For list of integers\n",
    "lst1 = []\n",
    "\n",
    "# For list of strings/chars\n",
    "lst2 = []\n",
    "\n",
    "lst1 = [int(item) for item in input(\"Enter the list items : \").split(\",\")]\n",
    "\n",
    "lst2 = [int(item) for item in input(\"Enter the 2nd list items : \").split(\",\")]\n",
    "\n",
    "\n",
    "result = []\n",
    "for element in lst1:\n",
    "    if element in lst2:\n",
    "        result.append(element)\n",
    "print ( result)"
   ]
  },
  {
   "cell_type": "code",
   "execution_count": null,
   "id": "5ba2231d",
   "metadata": {},
   "outputs": [],
   "source": []
  }
 ],
 "metadata": {
  "kernelspec": {
   "display_name": "Python 3 (ipykernel)",
   "language": "python",
   "name": "python3"
  },
  "language_info": {
   "codemirror_mode": {
    "name": "ipython",
    "version": 3
   },
   "file_extension": ".py",
   "mimetype": "text/x-python",
   "name": "python",
   "nbconvert_exporter": "python",
   "pygments_lexer": "ipython3",
   "version": "3.9.7"
  }
 },
 "nbformat": 4,
 "nbformat_minor": 5
}
